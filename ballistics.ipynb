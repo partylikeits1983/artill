{
 "cells": [
  {
   "cell_type": "code",
   "execution_count": 1,
   "id": "aafbf0be",
   "metadata": {},
   "outputs": [],
   "source": [
    "import pandas as pd\n",
    "import csv\n",
    "import matplotlib.pyplot as plt"
   ]
  },
  {
   "cell_type": "code",
   "execution_count": null,
   "id": "67cb443c",
   "metadata": {},
   "outputs": [],
   "source": []
  },
  {
   "cell_type": "code",
   "execution_count": 2,
   "id": "93503da7",
   "metadata": {},
   "outputs": [
    {
     "name": "stdout",
     "output_type": "stream",
     "text": [
      "ak47\t  lap338orig  m107m1a1\tmortar81  rhein\r\n",
      "b32_12.7  lapua338    m795\told\t  study2\r\n"
     ]
    }
   ],
   "source": [
    "!cd src/drag/extra && ls"
   ]
  },
  {
   "cell_type": "code",
   "execution_count": null,
   "id": "abc92259",
   "metadata": {},
   "outputs": [],
   "source": []
  },
  {
   "cell_type": "code",
   "execution_count": null,
   "id": "35f49861",
   "metadata": {},
   "outputs": [],
   "source": []
  },
  {
   "cell_type": "code",
   "execution_count": 4,
   "id": "97837c9e",
   "metadata": {},
   "outputs": [],
   "source": [
    "# projectile parameters\n",
    "mass = 0.0079\n",
    "diameter = 0.00762\n",
    "length =  0.02\n",
    "velocity =  715\n",
    "# 0-linear, 1-graph, 2-point 3-alpha\n",
    "cdtype = 3"
   ]
  },
  {
   "cell_type": "code",
   "execution_count": null,
   "id": "913b3631",
   "metadata": {},
   "outputs": [],
   "source": []
  },
  {
   "cell_type": "code",
   "execution_count": 5,
   "id": "5635fa98",
   "metadata": {},
   "outputs": [
    {
     "data": {
      "text/html": [
       "<div>\n",
       "<style scoped>\n",
       "    .dataframe tbody tr th:only-of-type {\n",
       "        vertical-align: middle;\n",
       "    }\n",
       "\n",
       "    .dataframe tbody tr th {\n",
       "        vertical-align: top;\n",
       "    }\n",
       "\n",
       "    .dataframe thead th {\n",
       "        text-align: right;\n",
       "    }\n",
       "</style>\n",
       "<table border=\"1\" class=\"dataframe\">\n",
       "  <thead>\n",
       "    <tr style=\"text-align: right;\">\n",
       "      <th></th>\n",
       "      <th>0</th>\n",
       "    </tr>\n",
       "  </thead>\n",
       "  <tbody>\n",
       "    <tr>\n",
       "      <th>0</th>\n",
       "      <td>mass 0.0079</td>\n",
       "    </tr>\n",
       "    <tr>\n",
       "      <th>1</th>\n",
       "      <td>diameter 0.00762</td>\n",
       "    </tr>\n",
       "    <tr>\n",
       "      <th>2</th>\n",
       "      <td>length 0.02</td>\n",
       "    </tr>\n",
       "    <tr>\n",
       "      <th>3</th>\n",
       "      <td>velocity 715</td>\n",
       "    </tr>\n",
       "    <tr>\n",
       "      <th>4</th>\n",
       "      <td>cdtype 3</td>\n",
       "    </tr>\n",
       "  </tbody>\n",
       "</table>\n",
       "</div>"
      ],
      "text/plain": [
       "                  0\n",
       "0       mass 0.0079\n",
       "1  diameter 0.00762\n",
       "2       length 0.02\n",
       "3      velocity 715\n",
       "4          cdtype 3"
      ]
     },
     "execution_count": 5,
     "metadata": {},
     "output_type": "execute_result"
    }
   ],
   "source": [
    " lst = ['mass ' + str(mass), 'diameter ' + str(diameter),\n",
    "       'length ' + str(length), 'velocity ' + str(velocity),\n",
    "       'cdtype '+ str(cdtype)]  \n",
    "\n",
    "df = pd.DataFrame(lst)  \n",
    "df"
   ]
  },
  {
   "cell_type": "code",
   "execution_count": 6,
   "id": "6703db54",
   "metadata": {},
   "outputs": [],
   "source": [
    "df.to_csv('src/drag/in/proj.dat', index=False, header=False)"
   ]
  },
  {
   "cell_type": "code",
   "execution_count": null,
   "id": "b0176102",
   "metadata": {},
   "outputs": [],
   "source": []
  },
  {
   "cell_type": "code",
   "execution_count": 7,
   "id": "4f3c5081",
   "metadata": {},
   "outputs": [],
   "source": [
    "# shot parameters"
   ]
  },
  {
   "cell_type": "code",
   "execution_count": 8,
   "id": "c53dd236",
   "metadata": {},
   "outputs": [],
   "source": [
    "angle_deg = 45 # shot angle\n",
    "angle_dlt = 1 # angle change per shot\n",
    "height = 0 # height of gun from surface\n",
    "ntraj = 1 # number of shots \n",
    "turbulence = 0 # turbulence velocity, m/s\n",
    "zwind = 0 # side wind, m/s\n",
    "xwind = 0 # head wind, m/s"
   ]
  },
  {
   "cell_type": "code",
   "execution_count": 9,
   "id": "1476bbcf",
   "metadata": {},
   "outputs": [
    {
     "data": {
      "text/html": [
       "<div>\n",
       "<style scoped>\n",
       "    .dataframe tbody tr th:only-of-type {\n",
       "        vertical-align: middle;\n",
       "    }\n",
       "\n",
       "    .dataframe tbody tr th {\n",
       "        vertical-align: top;\n",
       "    }\n",
       "\n",
       "    .dataframe thead th {\n",
       "        text-align: right;\n",
       "    }\n",
       "</style>\n",
       "<table border=\"1\" class=\"dataframe\">\n",
       "  <thead>\n",
       "    <tr style=\"text-align: right;\">\n",
       "      <th></th>\n",
       "      <th>0</th>\n",
       "    </tr>\n",
       "  </thead>\n",
       "  <tbody>\n",
       "    <tr>\n",
       "      <th>0</th>\n",
       "      <td>angle_deg 45</td>\n",
       "    </tr>\n",
       "    <tr>\n",
       "      <th>1</th>\n",
       "      <td>angle_dlt 1</td>\n",
       "    </tr>\n",
       "    <tr>\n",
       "      <th>2</th>\n",
       "      <td>height 0</td>\n",
       "    </tr>\n",
       "    <tr>\n",
       "      <th>3</th>\n",
       "      <td>ntraj 1</td>\n",
       "    </tr>\n",
       "    <tr>\n",
       "      <th>4</th>\n",
       "      <td>turbulence 0</td>\n",
       "    </tr>\n",
       "    <tr>\n",
       "      <th>5</th>\n",
       "      <td>zwind 0</td>\n",
       "    </tr>\n",
       "    <tr>\n",
       "      <th>6</th>\n",
       "      <td>xwind 0</td>\n",
       "    </tr>\n",
       "  </tbody>\n",
       "</table>\n",
       "</div>"
      ],
      "text/plain": [
       "              0\n",
       "0  angle_deg 45\n",
       "1   angle_dlt 1\n",
       "2      height 0\n",
       "3       ntraj 1\n",
       "4  turbulence 0\n",
       "5       zwind 0\n",
       "6       xwind 0"
      ]
     },
     "execution_count": 9,
     "metadata": {},
     "output_type": "execute_result"
    }
   ],
   "source": [
    "lst = ['angle_deg ' + str(angle_deg), \n",
    "       'angle_dlt ' + str(angle_dlt),\n",
    "       'height ' + str(height), \n",
    "       'ntraj ' + str(ntraj),\n",
    "       'turbulence '+ str(turbulence),\n",
    "       'zwind ' + str(zwind),\n",
    "       'xwind '+ str(xwind)\n",
    "      ]  \n",
    " \n",
    "df = pd.DataFrame(lst)  \n",
    "df"
   ]
  },
  {
   "cell_type": "code",
   "execution_count": 10,
   "id": "699efd3c",
   "metadata": {},
   "outputs": [],
   "source": [
    "df.to_csv('src/drag/in/shot.dat', index=False, header=False)"
   ]
  },
  {
   "cell_type": "code",
   "execution_count": 11,
   "id": "5b455975",
   "metadata": {},
   "outputs": [
    {
     "data": {
      "text/html": [
       "<div>\n",
       "<style scoped>\n",
       "    .dataframe tbody tr th:only-of-type {\n",
       "        vertical-align: middle;\n",
       "    }\n",
       "\n",
       "    .dataframe tbody tr th {\n",
       "        vertical-align: top;\n",
       "    }\n",
       "\n",
       "    .dataframe thead th {\n",
       "        text-align: right;\n",
       "    }\n",
       "</style>\n",
       "<table border=\"1\" class=\"dataframe\">\n",
       "  <thead>\n",
       "    <tr style=\"text-align: right;\">\n",
       "      <th></th>\n",
       "      <th>0</th>\n",
       "    </tr>\n",
       "  </thead>\n",
       "  <tbody>\n",
       "    <tr>\n",
       "      <th>0</th>\n",
       "      <td>angle_deg 45</td>\n",
       "    </tr>\n",
       "    <tr>\n",
       "      <th>1</th>\n",
       "      <td>angle_dlt 1</td>\n",
       "    </tr>\n",
       "    <tr>\n",
       "      <th>2</th>\n",
       "      <td>height 0</td>\n",
       "    </tr>\n",
       "    <tr>\n",
       "      <th>3</th>\n",
       "      <td>ntraj 1</td>\n",
       "    </tr>\n",
       "    <tr>\n",
       "      <th>4</th>\n",
       "      <td>turbulence 0</td>\n",
       "    </tr>\n",
       "    <tr>\n",
       "      <th>5</th>\n",
       "      <td>zwind 0</td>\n",
       "    </tr>\n",
       "    <tr>\n",
       "      <th>6</th>\n",
       "      <td>xwind 0</td>\n",
       "    </tr>\n",
       "  </tbody>\n",
       "</table>\n",
       "</div>"
      ],
      "text/plain": [
       "              0\n",
       "0  angle_deg 45\n",
       "1   angle_dlt 1\n",
       "2      height 0\n",
       "3       ntraj 1\n",
       "4  turbulence 0\n",
       "5       zwind 0\n",
       "6       xwind 0"
      ]
     },
     "execution_count": 11,
     "metadata": {},
     "output_type": "execute_result"
    }
   ],
   "source": [
    "df"
   ]
  },
  {
   "cell_type": "code",
   "execution_count": null,
   "id": "68f3f042",
   "metadata": {},
   "outputs": [],
   "source": []
  },
  {
   "cell_type": "code",
   "execution_count": 12,
   "id": "f850dda7",
   "metadata": {},
   "outputs": [
    {
     "data": {
      "text/plain": [
       "273.15"
      ]
     },
     "execution_count": 12,
     "metadata": {},
     "output_type": "execute_result"
    }
   ],
   "source": [
    "# Fahrenheit to Kelvin\n",
    "tempF = 32\n",
    "std_temp = (tempF - 32) * 5/9 + 273.15\n",
    "std_temp"
   ]
  },
  {
   "cell_type": "code",
   "execution_count": 13,
   "id": "cabbfa8f",
   "metadata": {},
   "outputs": [],
   "source": [
    "# constants (do not change these values unless its std_temp)"
   ]
  },
  {
   "cell_type": "code",
   "execution_count": 14,
   "id": "252c42b4",
   "metadata": {},
   "outputs": [],
   "source": [
    "# default SI\n",
    "Earth_radius = 6378137\n",
    "Earth_mass = 5.9722e24\n",
    "\n",
    "# Gravitational constant\n",
    "Ggrav = 6.67408e-11\n",
    "\n",
    "# Constants used only for atmospheric calculation\n",
    "# sea level standard pressure, Pa\n",
    "std_press = 101325\n",
    "# temperature lapse rate, K/km\n",
    "temp_rate = 6.5\n",
    "# the radius of the earth, km\n",
    "Earth_atm_R = 6356.766\n",
    "# sea level standard temperature, K\n",
    "std_temp = 288.15\n",
    "# gravitational constant, m/sec2\n",
    "grav_atm = 9.80665\n",
    "# molecular weight of dry air, gm/mol\n",
    "molec_w = 28.9644\n",
    "# gas constant, J/(mol*K)\n",
    "gas_const = 8.31432\n",
    "# speed of sound at 1K\n",
    "speed_1k = 20.046"
   ]
  },
  {
   "cell_type": "code",
   "execution_count": 15,
   "id": "778a850e",
   "metadata": {},
   "outputs": [
    {
     "data": {
      "text/html": [
       "<div>\n",
       "<style scoped>\n",
       "    .dataframe tbody tr th:only-of-type {\n",
       "        vertical-align: middle;\n",
       "    }\n",
       "\n",
       "    .dataframe tbody tr th {\n",
       "        vertical-align: top;\n",
       "    }\n",
       "\n",
       "    .dataframe thead th {\n",
       "        text-align: right;\n",
       "    }\n",
       "</style>\n",
       "<table border=\"1\" class=\"dataframe\">\n",
       "  <thead>\n",
       "    <tr style=\"text-align: right;\">\n",
       "      <th></th>\n",
       "      <th>0</th>\n",
       "    </tr>\n",
       "  </thead>\n",
       "  <tbody>\n",
       "    <tr>\n",
       "      <th>0</th>\n",
       "      <td>Earth_radius 6378137</td>\n",
       "    </tr>\n",
       "    <tr>\n",
       "      <th>1</th>\n",
       "      <td>Earth_mass 5.9722e+24</td>\n",
       "    </tr>\n",
       "    <tr>\n",
       "      <th>2</th>\n",
       "      <td>Ggrav 6.67408e-11</td>\n",
       "    </tr>\n",
       "    <tr>\n",
       "      <th>3</th>\n",
       "      <td>std_press 101325</td>\n",
       "    </tr>\n",
       "    <tr>\n",
       "      <th>4</th>\n",
       "      <td>temp_rate 6.5</td>\n",
       "    </tr>\n",
       "    <tr>\n",
       "      <th>5</th>\n",
       "      <td>Earth_atm_R 6356.766</td>\n",
       "    </tr>\n",
       "    <tr>\n",
       "      <th>6</th>\n",
       "      <td>std_temp 288.15</td>\n",
       "    </tr>\n",
       "    <tr>\n",
       "      <th>7</th>\n",
       "      <td>grav_atm 9.80665</td>\n",
       "    </tr>\n",
       "    <tr>\n",
       "      <th>8</th>\n",
       "      <td>molec_w 28.9644</td>\n",
       "    </tr>\n",
       "    <tr>\n",
       "      <th>9</th>\n",
       "      <td>gas_const 8.31432</td>\n",
       "    </tr>\n",
       "    <tr>\n",
       "      <th>10</th>\n",
       "      <td>speed_1k 20.046</td>\n",
       "    </tr>\n",
       "  </tbody>\n",
       "</table>\n",
       "</div>"
      ],
      "text/plain": [
       "                        0\n",
       "0    Earth_radius 6378137\n",
       "1   Earth_mass 5.9722e+24\n",
       "2       Ggrav 6.67408e-11\n",
       "3        std_press 101325\n",
       "4           temp_rate 6.5\n",
       "5    Earth_atm_R 6356.766\n",
       "6         std_temp 288.15\n",
       "7        grav_atm 9.80665\n",
       "8         molec_w 28.9644\n",
       "9       gas_const 8.31432\n",
       "10        speed_1k 20.046"
      ]
     },
     "execution_count": 15,
     "metadata": {},
     "output_type": "execute_result"
    }
   ],
   "source": [
    " lst = ['Earth_radius ' + str(Earth_radius), \n",
    "       'Earth_mass ' + str(Earth_mass),\n",
    "       'Ggrav ' + str(Ggrav), \n",
    "       'std_press ' + str(std_press),\n",
    "       'temp_rate '+ str(temp_rate),\n",
    "       'Earth_atm_R ' + str(Earth_atm_R),\n",
    "       'std_temp '+ str(std_temp),\n",
    "       'grav_atm ' + str(grav_atm), \n",
    "       'molec_w ' + str(molec_w),\n",
    "       'gas_const '+ str(gas_const),\n",
    "       'speed_1k ' + str(speed_1k)\n",
    "      ]  \n",
    "\n",
    "df = pd.DataFrame(lst)  \n",
    "df"
   ]
  },
  {
   "cell_type": "code",
   "execution_count": 16,
   "id": "456ecbc0",
   "metadata": {},
   "outputs": [],
   "source": [
    "df.to_csv('src/drag/in/consts.dat', index=False, header=False)"
   ]
  },
  {
   "cell_type": "code",
   "execution_count": null,
   "id": "59a42efe",
   "metadata": {},
   "outputs": [],
   "source": []
  },
  {
   "cell_type": "code",
   "execution_count": 17,
   "id": "e22f6fc5",
   "metadata": {},
   "outputs": [
    {
     "name": "stdout",
     "output_type": "stream",
     "text": [
      "Grav g = 9.79801\n",
      "1/1 saving ok\n",
      "Cd use [0.244403:2.10121]\n",
      "Range 3020.212315382709221 at 45\n"
     ]
    }
   ],
   "source": [
    "# Run simulation\n",
    "!cd src/drag/ && ./drag.u.exe"
   ]
  },
  {
   "cell_type": "code",
   "execution_count": null,
   "id": "85ac6fc4",
   "metadata": {},
   "outputs": [],
   "source": []
  },
  {
   "cell_type": "code",
   "execution_count": 18,
   "id": "9ed0240c",
   "metadata": {},
   "outputs": [],
   "source": [
    "# View Data"
   ]
  },
  {
   "cell_type": "code",
   "execution_count": 19,
   "id": "3debd11f",
   "metadata": {},
   "outputs": [],
   "source": [
    "# open shot data\n",
    "with open('src/drag/out/shots_summary.dat', 'r') as infile, \\\n",
    "     open('src/drag/data/shots_raw.dat', 'w') as outfile:\n",
    "    data = infile.read()\n",
    "    data = data.replace(\"#\", \"\")\n",
    "    outfile.write(data)"
   ]
  },
  {
   "cell_type": "code",
   "execution_count": 20,
   "id": "f971ed53",
   "metadata": {},
   "outputs": [],
   "source": [
    "with open('src/drag/data/shots_raw.dat', 'r') as input_file:\n",
    "    lines = input_file.readlines()\n",
    "    newLines = []\n",
    "    for line in lines:\n",
    "        newLine = line.strip(' ').split()\n",
    "        newLines.append(newLine)\n",
    "\n",
    "with open('src/drag/data/shots.csv', 'w') as output_file:\n",
    "    file_writer = csv.writer(output_file)\n",
    "    file_writer.writerows(newLines)"
   ]
  },
  {
   "cell_type": "code",
   "execution_count": 21,
   "id": "5fb2f871",
   "metadata": {},
   "outputs": [],
   "source": [
    "df=pd.read_csv('src/drag/data/shots.csv')"
   ]
  },
  {
   "cell_type": "code",
   "execution_count": 22,
   "id": "6758a94b",
   "metadata": {},
   "outputs": [
    {
     "data": {
      "text/html": [
       "<div>\n",
       "<style scoped>\n",
       "    .dataframe tbody tr th:only-of-type {\n",
       "        vertical-align: middle;\n",
       "    }\n",
       "\n",
       "    .dataframe tbody tr th {\n",
       "        vertical-align: top;\n",
       "    }\n",
       "\n",
       "    .dataframe thead th {\n",
       "        text-align: right;\n",
       "    }\n",
       "</style>\n",
       "<table border=\"1\" class=\"dataframe\">\n",
       "  <thead>\n",
       "    <tr style=\"text-align: right;\">\n",
       "      <th></th>\n",
       "      <th>ElevMils</th>\n",
       "      <th>Range</th>\n",
       "      <th>Z</th>\n",
       "      <th>Y</th>\n",
       "      <th>TOF</th>\n",
       "      <th>MaxH</th>\n",
       "      <th>Vfin</th>\n",
       "      <th>AOFdeg</th>\n",
       "      <th>EK0</th>\n",
       "      <th>EKfin</th>\n",
       "      <th>RejectRate%</th>\n",
       "    </tr>\n",
       "  </thead>\n",
       "  <tbody>\n",
       "    <tr>\n",
       "      <th>0</th>\n",
       "      <td>800</td>\n",
       "      <td>3020.21</td>\n",
       "      <td>0</td>\n",
       "      <td>-0.715074</td>\n",
       "      <td>31.8868</td>\n",
       "      <td>1319.85</td>\n",
       "      <td>120.123</td>\n",
       "      <td>73.432</td>\n",
       "      <td>2019.34</td>\n",
       "      <td>56.9965</td>\n",
       "      <td>0</td>\n",
       "    </tr>\n",
       "  </tbody>\n",
       "</table>\n",
       "</div>"
      ],
      "text/plain": [
       "   ElevMils    Range  Z         Y      TOF     MaxH     Vfin  AOFdeg      EK0  \\\n",
       "0       800  3020.21  0 -0.715074  31.8868  1319.85  120.123  73.432  2019.34   \n",
       "\n",
       "     EKfin  RejectRate%  \n",
       "0  56.9965            0  "
      ]
     },
     "execution_count": 22,
     "metadata": {},
     "output_type": "execute_result"
    }
   ],
   "source": [
    "df"
   ]
  },
  {
   "cell_type": "code",
   "execution_count": 23,
   "id": "f222e406",
   "metadata": {},
   "outputs": [],
   "source": [
    "# https://github.com/mazonka/artill/blob/master/user_guide.pdf"
   ]
  },
  {
   "cell_type": "code",
   "execution_count": 24,
   "id": "9d1959a6",
   "metadata": {},
   "outputs": [
    {
     "data": {
      "text/plain": [
       "\"\\nElevMils = elevation angle in mils\\nRange = earth's surface distance to the hit point\\nZ = Z coordinate of the final point (sidewise)\\nY = Y coordinate  of the final point. Normally negative due to Earth's curvature\\nTOF = time of flight\\nMaxH = Max height of the trajectory from Earth's surface\\nVfin = final velocity\\nAOFdeg = angle of fall in degrees\\nEK0 = initial kinetic energy (J)\\nEKfin = ifnal kinetic energy (J)\\nRejectRate = percentage of rejected steps of integration\\n\""
      ]
     },
     "execution_count": 24,
     "metadata": {},
     "output_type": "execute_result"
    }
   ],
   "source": [
    "'''\n",
    "ElevMils = elevation angle in mils\n",
    "Range = earth's surface distance to the hit point\n",
    "Z = Z coordinate of the final point (sidewise)\n",
    "Y = Y coordinate  of the final point. Normally negative due to Earth's curvature\n",
    "TOF = time of flight\n",
    "MaxH = Max height of the trajectory from Earth's surface\n",
    "Vfin = final velocity\n",
    "AOFdeg = angle of fall in degrees\n",
    "EK0 = initial kinetic energy (J)\n",
    "EKfin = ifnal kinetic energy (J)\n",
    "RejectRate = percentage of rejected steps of integration\n",
    "''' "
   ]
  },
  {
   "cell_type": "code",
   "execution_count": null,
   "id": "9e666cbe",
   "metadata": {},
   "outputs": [],
   "source": []
  },
  {
   "cell_type": "code",
   "execution_count": 25,
   "id": "afdd822c",
   "metadata": {},
   "outputs": [],
   "source": [
    "# open trajectory data\n",
    "\n",
    "with open('src/drag/out/trajs.dat', 'r') as infile, \\\n",
    "     open('src/drag/data/trajs_raw.dat', 'w') as outfile:\n",
    "    data = infile.read()\n",
    "    data = data.replace(\"#\", \"\")\n",
    "    outfile.write(data)"
   ]
  },
  {
   "cell_type": "code",
   "execution_count": 26,
   "id": "d508f02b",
   "metadata": {},
   "outputs": [],
   "source": [
    "with open('src/drag/data/trajs_raw.dat', 'r') as input_file:\n",
    "    lines = input_file.readlines()\n",
    "    newLines = []\n",
    "    for line in lines:\n",
    "        newLine = line.strip(' ').split()\n",
    "        newLines.append(newLine)\n",
    "\n",
    "with open('src/drag/data/trajs.csv', 'w') as output_file:\n",
    "    file_writer = csv.writer(output_file)\n",
    "    file_writer.writerows(newLines)"
   ]
  },
  {
   "cell_type": "code",
   "execution_count": 27,
   "id": "6b6b8901",
   "metadata": {},
   "outputs": [],
   "source": [
    "df=pd.read_csv('src/drag/data/trajs.csv')"
   ]
  },
  {
   "cell_type": "code",
   "execution_count": 28,
   "id": "27e41a02",
   "metadata": {},
   "outputs": [
    {
     "data": {
      "text/html": [
       "<div>\n",
       "<style scoped>\n",
       "    .dataframe tbody tr th:only-of-type {\n",
       "        vertical-align: middle;\n",
       "    }\n",
       "\n",
       "    .dataframe tbody tr th {\n",
       "        vertical-align: top;\n",
       "    }\n",
       "\n",
       "    .dataframe thead th {\n",
       "        text-align: right;\n",
       "    }\n",
       "</style>\n",
       "<table border=\"1\" class=\"dataframe\">\n",
       "  <thead>\n",
       "    <tr style=\"text-align: right;\">\n",
       "      <th></th>\n",
       "      <th>Time</th>\n",
       "      <th>X</th>\n",
       "      <th>Y</th>\n",
       "      <th>Z</th>\n",
       "      <th>vX</th>\n",
       "      <th>vY</th>\n",
       "      <th>vZ</th>\n",
       "      <th>dt</th>\n",
       "      <th>Length</th>\n",
       "      <th>Range</th>\n",
       "      <th>HeatKJ</th>\n",
       "      <th>Mach</th>\n",
       "    </tr>\n",
       "  </thead>\n",
       "  <tbody>\n",
       "    <tr>\n",
       "      <th>0</th>\n",
       "      <td>0.0000</td>\n",
       "      <td>0.00000</td>\n",
       "      <td>0.000000</td>\n",
       "      <td>0</td>\n",
       "      <td>505.5810</td>\n",
       "      <td>505.581</td>\n",
       "      <td>0</td>\n",
       "      <td>0.000000</td>\n",
       "      <td>0.00000</td>\n",
       "      <td>0.00000</td>\n",
       "      <td>0.000000</td>\n",
       "      <td>2.101210</td>\n",
       "    </tr>\n",
       "    <tr>\n",
       "      <th>1</th>\n",
       "      <td>0.0100</td>\n",
       "      <td>5.05581</td>\n",
       "      <td>5.055320</td>\n",
       "      <td>0</td>\n",
       "      <td>500.7350</td>\n",
       "      <td>500.638</td>\n",
       "      <td>0</td>\n",
       "      <td>0.010000</td>\n",
       "      <td>7.14965</td>\n",
       "      <td>5.05581</td>\n",
       "      <td>0.038523</td>\n",
       "      <td>2.080980</td>\n",
       "    </tr>\n",
       "    <tr>\n",
       "      <th>2</th>\n",
       "      <td>0.0200</td>\n",
       "      <td>10.06320</td>\n",
       "      <td>10.061200</td>\n",
       "      <td>0</td>\n",
       "      <td>495.9660</td>\n",
       "      <td>495.773</td>\n",
       "      <td>0</td>\n",
       "      <td>0.010000</td>\n",
       "      <td>14.23010</td>\n",
       "      <td>10.06310</td>\n",
       "      <td>0.076058</td>\n",
       "      <td>2.061080</td>\n",
       "    </tr>\n",
       "    <tr>\n",
       "      <th>3</th>\n",
       "      <td>0.0300</td>\n",
       "      <td>15.02280</td>\n",
       "      <td>15.018400</td>\n",
       "      <td>0</td>\n",
       "      <td>491.2730</td>\n",
       "      <td>490.985</td>\n",
       "      <td>0</td>\n",
       "      <td>0.010000</td>\n",
       "      <td>21.24240</td>\n",
       "      <td>15.02280</td>\n",
       "      <td>0.112636</td>\n",
       "      <td>2.041490</td>\n",
       "    </tr>\n",
       "    <tr>\n",
       "      <th>4</th>\n",
       "      <td>0.0400</td>\n",
       "      <td>19.93550</td>\n",
       "      <td>19.927800</td>\n",
       "      <td>0</td>\n",
       "      <td>486.6540</td>\n",
       "      <td>486.272</td>\n",
       "      <td>0</td>\n",
       "      <td>0.010000</td>\n",
       "      <td>28.18760</td>\n",
       "      <td>19.93550</td>\n",
       "      <td>0.148290</td>\n",
       "      <td>2.022210</td>\n",
       "    </tr>\n",
       "    <tr>\n",
       "      <th>...</th>\n",
       "      <td>...</td>\n",
       "      <td>...</td>\n",
       "      <td>...</td>\n",
       "      <td>...</td>\n",
       "      <td>...</td>\n",
       "      <td>...</td>\n",
       "      <td>...</td>\n",
       "      <td>...</td>\n",
       "      <td>...</td>\n",
       "      <td>...</td>\n",
       "      <td>...</td>\n",
       "      <td>...</td>\n",
       "    </tr>\n",
       "    <tr>\n",
       "      <th>3185</th>\n",
       "      <td>31.8500</td>\n",
       "      <td>3018.95000</td>\n",
       "      <td>3.523020</td>\n",
       "      <td>0</td>\n",
       "      <td>34.3360</td>\n",
       "      <td>-115.052</td>\n",
       "      <td>0</td>\n",
       "      <td>0.010000</td>\n",
       "      <td>4209.55000</td>\n",
       "      <td>3018.95000</td>\n",
       "      <td>1.962070</td>\n",
       "      <td>0.352862</td>\n",
       "    </tr>\n",
       "    <tr>\n",
       "      <th>3186</th>\n",
       "      <td>31.8600</td>\n",
       "      <td>3019.29000</td>\n",
       "      <td>2.372010</td>\n",
       "      <td>0</td>\n",
       "      <td>34.3135</td>\n",
       "      <td>-115.075</td>\n",
       "      <td>0</td>\n",
       "      <td>0.010000</td>\n",
       "      <td>4210.75000</td>\n",
       "      <td>3019.29000</td>\n",
       "      <td>1.962140</td>\n",
       "      <td>0.352902</td>\n",
       "    </tr>\n",
       "    <tr>\n",
       "      <th>3187</th>\n",
       "      <td>31.8700</td>\n",
       "      <td>3019.64000</td>\n",
       "      <td>1.220770</td>\n",
       "      <td>0</td>\n",
       "      <td>34.2911</td>\n",
       "      <td>-115.097</td>\n",
       "      <td>0</td>\n",
       "      <td>0.010000</td>\n",
       "      <td>4211.95000</td>\n",
       "      <td>3019.64000</td>\n",
       "      <td>1.962220</td>\n",
       "      <td>0.352943</td>\n",
       "    </tr>\n",
       "    <tr>\n",
       "      <th>3188</th>\n",
       "      <td>31.8800</td>\n",
       "      <td>3019.98000</td>\n",
       "      <td>0.069309</td>\n",
       "      <td>0</td>\n",
       "      <td>34.2686</td>\n",
       "      <td>-115.120</td>\n",
       "      <td>0</td>\n",
       "      <td>0.010000</td>\n",
       "      <td>4213.15000</td>\n",
       "      <td>3019.98000</td>\n",
       "      <td>1.962290</td>\n",
       "      <td>0.352984</td>\n",
       "    </tr>\n",
       "    <tr>\n",
       "      <th>3189</th>\n",
       "      <td>31.8868</td>\n",
       "      <td>3020.21000</td>\n",
       "      <td>-0.715074</td>\n",
       "      <td>0</td>\n",
       "      <td>34.2533</td>\n",
       "      <td>-115.136</td>\n",
       "      <td>0</td>\n",
       "      <td>0.006811</td>\n",
       "      <td>4213.97000</td>\n",
       "      <td>3020.21000</td>\n",
       "      <td>1.962340</td>\n",
       "      <td>0.353011</td>\n",
       "    </tr>\n",
       "  </tbody>\n",
       "</table>\n",
       "<p>3190 rows × 12 columns</p>\n",
       "</div>"
      ],
      "text/plain": [
       "         Time           X          Y  Z        vX       vY  vZ        dt  \\\n",
       "0      0.0000     0.00000   0.000000  0  505.5810  505.581   0  0.000000   \n",
       "1      0.0100     5.05581   5.055320  0  500.7350  500.638   0  0.010000   \n",
       "2      0.0200    10.06320  10.061200  0  495.9660  495.773   0  0.010000   \n",
       "3      0.0300    15.02280  15.018400  0  491.2730  490.985   0  0.010000   \n",
       "4      0.0400    19.93550  19.927800  0  486.6540  486.272   0  0.010000   \n",
       "...       ...         ...        ... ..       ...      ...  ..       ...   \n",
       "3185  31.8500  3018.95000   3.523020  0   34.3360 -115.052   0  0.010000   \n",
       "3186  31.8600  3019.29000   2.372010  0   34.3135 -115.075   0  0.010000   \n",
       "3187  31.8700  3019.64000   1.220770  0   34.2911 -115.097   0  0.010000   \n",
       "3188  31.8800  3019.98000   0.069309  0   34.2686 -115.120   0  0.010000   \n",
       "3189  31.8868  3020.21000  -0.715074  0   34.2533 -115.136   0  0.006811   \n",
       "\n",
       "          Length       Range    HeatKJ      Mach  \n",
       "0        0.00000     0.00000  0.000000  2.101210  \n",
       "1        7.14965     5.05581  0.038523  2.080980  \n",
       "2       14.23010    10.06310  0.076058  2.061080  \n",
       "3       21.24240    15.02280  0.112636  2.041490  \n",
       "4       28.18760    19.93550  0.148290  2.022210  \n",
       "...          ...         ...       ...       ...  \n",
       "3185  4209.55000  3018.95000  1.962070  0.352862  \n",
       "3186  4210.75000  3019.29000  1.962140  0.352902  \n",
       "3187  4211.95000  3019.64000  1.962220  0.352943  \n",
       "3188  4213.15000  3019.98000  1.962290  0.352984  \n",
       "3189  4213.97000  3020.21000  1.962340  0.353011  \n",
       "\n",
       "[3190 rows x 12 columns]"
      ]
     },
     "execution_count": 28,
     "metadata": {},
     "output_type": "execute_result"
    }
   ],
   "source": [
    "df"
   ]
  },
  {
   "cell_type": "code",
   "execution_count": null,
   "id": "75232f2a",
   "metadata": {},
   "outputs": [],
   "source": [
    "figure, axis = plt.subplots(3)\n",
    "\n",
    "\n",
    "figure.set_figheight(8)\n",
    "figure.set_figwidth(8)\n",
    "  \n",
    "# For Sine Function\n",
    "axis[0].plot(df['X'], df['Y'])\n",
    "axis[0].set_title(\"Range\")\n",
    "  \n",
    "# For Cosine Function\n",
    "axis[1].plot(df['X'], df['Mach'])\n",
    "axis[1].set_title(\"Mach\")\n",
    "\n",
    "axis[2].plot(df['X'], df['HeatKJ'])\n",
    "axis[2].set_title(\"Heat KJ\")\n",
    "  \n",
    "plt.tight_layout()\n",
    "\n",
    "\n",
    "plt.savefig('range.jpeg', bbox_inches='tight', dpi=300)\n",
    "plt.show()"
   ]
  },
  {
   "cell_type": "code",
   "execution_count": 32,
   "id": "bcf6e935",
   "metadata": {},
   "outputs": [
    {
     "data": {
      "text/plain": [
       "<AxesSubplot:xlabel='Time'>"
      ]
     },
     "execution_count": 32,
     "metadata": {},
     "output_type": "execute_result"
    },
    {
     "data": {
      "image/png": "[encoded data removed]",
      "text/plain": [
       "<Figure size 432x288 with 1 Axes>"
      ]
     },
     "metadata": {
      "needs_background": "light"
     },
     "output_type": "display_data"
    }
   ],
   "source": [
    "df.plot(x='Time', y='Mach')"
   ]
  },
  {
   "cell_type": "code",
   "execution_count": null,
   "id": "28e9ce0f",
   "metadata": {},
   "outputs": [],
   "source": []
  },
  {
   "cell_type": "code",
   "execution_count": null,
   "id": "afb17f99",
   "metadata": {},
   "outputs": [],
   "source": []
  },
  {
   "cell_type": "code",
   "execution_count": 33,
   "id": "8c0906d3",
   "metadata": {},
   "outputs": [],
   "source": [
    "import pandas as pd\n",
    "from pandas import DataFrame\n",
    "import matplotlib.pyplot as plt\n",
    "from mpl_toolkits.mplot3d import Axes3D"
   ]
  },
  {
   "cell_type": "code",
   "execution_count": 34,
   "id": "0efe4790",
   "metadata": {},
   "outputs": [
    {
     "name": "stderr",
     "output_type": "stream",
     "text": [
      "<ipython-input-34-341be35d4ba5>:1: MatplotlibDeprecationWarning: Calling gca() with keyword arguments was deprecated in Matplotlib 3.4. Starting two minor releases later, gca() will take no keyword arguments. The gca() function should only be used to get the current axes, or if no axes exist, create new axes with default keyword arguments. To create a new axes with non-default arguments, use plt.axes() or plt.subplot().\n",
      "  threedee = plt.figure().gca(projection='3d')\n"
     ]
    },
    {
     "data": {
      "image/png": "[encoded data removed]",
      "text/plain": [
       "<Figure size 432x288 with 1 Axes>"
      ]
     },
     "metadata": {
      "needs_background": "light"
     },
     "output_type": "display_data"
    }
   ],
   "source": [
    "threedee = plt.figure().gca(projection='3d')\n",
    "threedee.scatter(df['X'], df['Z'], df['Y'])\n",
    "threedee.set_xlabel('X')\n",
    "threedee.set_ylabel('Z')\n",
    "threedee.set_zlabel('Y')\n",
    "plt.show()"
   ]
  },
  {
   "cell_type": "code",
   "execution_count": null,
   "id": "2af43165",
   "metadata": {},
   "outputs": [],
   "source": []
  }
 ],
 "metadata": {
  "kernelspec": {
   "display_name": "Python 3",
   "language": "python",
   "name": "python3"
  },
  "language_info": {
   "codemirror_mode": {
    "name": "ipython",
    "version": 3
   },
   "file_extension": ".py",
   "mimetype": "text/x-python",
   "name": "python",
   "nbconvert_exporter": "python",
   "pygments_lexer": "ipython3",
   "version": "3.8.10"
  }
 },
 "nbformat": 4,
 "nbformat_minor": 5
}
